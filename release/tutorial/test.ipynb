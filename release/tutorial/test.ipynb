{
 "cells": [
  {
   "cell_type": "markdown",
   "id": "3d7d04a8",
   "metadata": {},
   "source": [
    "Before you turn this problem in, make sure everything runs as expected. First, **restart the kernel** (in the menubar, select Kernel$\\rightarrow$Restart) and then **run all cells** (in the menubar, select Cell$\\rightarrow$Run All).\n",
    "\n",
    "Make sure you fill in any place that says `YOUR CODE HERE` or \"YOUR ANSWER HERE\", as well as your name and collaborators below:"
   ]
  },
  {
   "cell_type": "code",
   "execution_count": null,
   "id": "4f535a06",
   "metadata": {},
   "outputs": [],
   "source": [
    "NAME = \"\"\n",
    "COLLABORATORS = \"\""
   ]
  },
  {
   "cell_type": "markdown",
   "id": "6e5bd4fe",
   "metadata": {},
   "source": [
    "---"
   ]
  },
  {
   "cell_type": "code",
   "execution_count": null,
   "id": "a8565378-6f8b-4e8e-a836-63a80ea002c4",
   "metadata": {
    "deletable": false,
    "editable": false,
    "nbgrader": {
     "cell_type": "code",
     "checksum": "45fa406c2927ac459cc0739732bd49a6",
     "grade": false,
     "grade_id": "cell-a7407c8f7e474029",
     "locked": true,
     "schema_version": 3,
     "solution": false,
     "task": false
    },
    "tags": []
   },
   "outputs": [],
   "source": [
    "import numpy as np\n",
    "import matplotlib.pyplot as plt"
   ]
  },
  {
   "cell_type": "code",
   "execution_count": null,
   "id": "889f43c7-5747-4c95-9743-b67bfc158d8c",
   "metadata": {
    "deletable": false,
    "editable": false,
    "nbgrader": {
     "cell_type": "code",
     "checksum": "e7b672308b580385db9378037186d2e7",
     "grade": false,
     "grade_id": "cell-ccf5f3a3c44238be",
     "locked": true,
     "schema_version": 3,
     "solution": false,
     "task": false
    },
    "tags": []
   },
   "outputs": [],
   "source": [
    "def plot(time, amplitude, xtitle='Time [s]', ytitle = 'Amplitude',\\\n",
    "        hold = False, color = 'blue', marker = ',', legend = '', linestyle = '-'):\n",
    "    '''\n",
    "    引数の説明\n",
    "    time:       時刻の離散データ\n",
    "    amplitude:  上記の時刻データに対応する瞬時振幅値\n",
    "    xtitle:     横軸のラベル（暗黙値は 'Time [s]'）\n",
    "    ytitle:     縦軸のラベル（暗黙値は 'Amplitude'）\n",
    "    hold:       False（暗黙値）なら描画なし， True ならばデータを保持する\n",
    "    color:      グラフの色（暗黙値は 'blue'）\n",
    "    marker:     マーカーの種類（暗黙値は pixcel ','）\n",
    "    legend:     凡例の文字列（暗黙値は「なし」）\n",
    "    linestyle:  線の種類（暗黙値は実線）\n",
    "    '''\n",
    "    \n",
    "    if (marker != ','): #マーカーが pixcel でない場合\n",
    "        linestyle = ''  #データのプロットのみを行い，線で結ばない．\n",
    "\n",
    "    plt.plot(time, amplitude, color = color, marker = marker,\\\n",
    "             linestyle = linestyle, label = legend) #この１行で描画される\n",
    "    \n",
    "    if (legend != ''):  #凡例のデータが渡された場合には，凡例を書く関数を呼ぶ\n",
    "        plt.legend()\n",
    "\n",
    "    if (hold == False):\n",
    "        plt.xlabel(xtitle)\n",
    "        plt.ylabel(ytitle)\n",
    "        plt.show()"
   ]
  },
  {
   "cell_type": "code",
   "execution_count": null,
   "id": "3ab92081-2532-4c3a-bdf6-37f50fee6123",
   "metadata": {
    "deletable": false,
    "nbgrader": {
     "cell_type": "code",
     "checksum": "07dc240d56aff857cd007134e99ac780",
     "grade": false,
     "grade_id": "cell-4895c971b4fa5fbc",
     "locked": false,
     "schema_version": 3,
     "solution": true,
     "task": false
    },
    "tags": []
   },
   "outputs": [],
   "source": [
    "# このセルに関数の定義を入力する．\n",
    "def question1(t):\n",
    "    # YOUR CODE HERE\n",
    "    raise NotImplementedError()\n",
    "    return y"
   ]
  },
  {
   "cell_type": "code",
   "execution_count": null,
   "id": "27d5234d-1c2c-4fad-9e3b-b49907d70d82",
   "metadata": {
    "deletable": false,
    "editable": false,
    "nbgrader": {
     "cell_type": "code",
     "checksum": "6a04f561d04cd2482fb4ca453ee87734",
     "grade": true,
     "grade_id": "cell-8d1c9bd89f7cb5df",
     "locked": true,
     "points": 0,
     "schema_version": 3,
     "solution": false,
     "task": false
    },
    "tags": []
   },
   "outputs": [],
   "source": [
    "# 結果の確認（評価用セル）\n",
    "t = np.arange(0, 5, 0.01)\n",
    "y = question1(t)\n",
    "plot(t, y)"
   ]
  },
  {
   "cell_type": "code",
   "execution_count": null,
   "id": "8689e0cf-dec8-406f-9b8e-09c868f44620",
   "metadata": {},
   "outputs": [],
   "source": []
  }
 ],
 "metadata": {
  "kernelspec": {
   "display_name": "Python 3 (ipykernel)",
   "language": "python",
   "name": "python3"
  },
  "language_info": {
   "codemirror_mode": {
    "name": "ipython",
    "version": 3
   },
   "file_extension": ".py",
   "mimetype": "text/x-python",
   "name": "python",
   "nbconvert_exporter": "python",
   "pygments_lexer": "ipython3",
   "version": "3.8.8"
  }
 },
 "nbformat": 4,
 "nbformat_minor": 5
}
