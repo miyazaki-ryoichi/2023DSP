{
 "cells": [
  {
   "cell_type": "markdown",
   "id": "3d7d04a8",
   "metadata": {},
   "source": [
    "Before you turn this problem in, make sure everything runs as expected. First, **restart the kernel** (in the menubar, select Kernel$\\rightarrow$Restart) and then **run all cells** (in the menubar, select Cell$\\rightarrow$Run All).\n",
    "\n",
    "Make sure you fill in any place that says `YOUR CODE HERE` or \"YOUR ANSWER HERE\", as well as your name and collaborators below:"
   ]
  },
  {
   "cell_type": "code",
   "execution_count": 1,
   "id": "4f535a06",
   "metadata": {
    "execution": {
     "iopub.execute_input": "2023-03-10T04:06:10.952687Z",
     "iopub.status.busy": "2023-03-10T04:06:10.952103Z",
     "iopub.status.idle": "2023-03-10T04:06:10.971043Z",
     "shell.execute_reply": "2023-03-10T04:06:10.970188Z"
    }
   },
   "outputs": [],
   "source": [
    "NAME = \"\"\n",
    "COLLABORATORS = \"\""
   ]
  },
  {
   "cell_type": "markdown",
   "id": "6e5bd4fe",
   "metadata": {},
   "source": [
    "---"
   ]
  },
  {
   "cell_type": "code",
   "execution_count": 2,
   "id": "a8565378-6f8b-4e8e-a836-63a80ea002c4",
   "metadata": {
    "deletable": false,
    "editable": false,
    "execution": {
     "iopub.execute_input": "2023-03-10T04:06:10.976158Z",
     "iopub.status.busy": "2023-03-10T04:06:10.975851Z",
     "iopub.status.idle": "2023-03-10T04:06:11.881138Z",
     "shell.execute_reply": "2023-03-10T04:06:11.880769Z"
    },
    "nbgrader": {
     "cell_type": "code",
     "checksum": "45fa406c2927ac459cc0739732bd49a6",
     "grade": false,
     "grade_id": "cell-a7407c8f7e474029",
     "locked": true,
     "schema_version": 3,
     "solution": false,
     "task": false
    },
    "tags": []
   },
   "outputs": [],
   "source": [
    "import numpy as np\n",
    "import matplotlib.pyplot as plt"
   ]
  },
  {
   "cell_type": "code",
   "execution_count": 3,
   "id": "889f43c7-5747-4c95-9743-b67bfc158d8c",
   "metadata": {
    "deletable": false,
    "editable": false,
    "execution": {
     "iopub.execute_input": "2023-03-10T04:06:11.883719Z",
     "iopub.status.busy": "2023-03-10T04:06:11.883599Z",
     "iopub.status.idle": "2023-03-10T04:06:11.887307Z",
     "shell.execute_reply": "2023-03-10T04:06:11.886866Z"
    },
    "nbgrader": {
     "cell_type": "code",
     "checksum": "e7b672308b580385db9378037186d2e7",
     "grade": false,
     "grade_id": "cell-ccf5f3a3c44238be",
     "locked": true,
     "schema_version": 3,
     "solution": false,
     "task": false
    },
    "tags": []
   },
   "outputs": [],
   "source": [
    "def plot(time, amplitude, xtitle='Time [s]', ytitle = 'Amplitude',\\\n",
    "        hold = False, color = 'blue', marker = ',', legend = '', linestyle = '-'):\n",
    "    '''\n",
    "    引数の説明\n",
    "    time:       時刻の離散データ\n",
    "    amplitude:  上記の時刻データに対応する瞬時振幅値\n",
    "    xtitle:     横軸のラベル（暗黙値は 'Time [s]'）\n",
    "    ytitle:     縦軸のラベル（暗黙値は 'Amplitude'）\n",
    "    hold:       False（暗黙値）なら描画なし， True ならばデータを保持する\n",
    "    color:      グラフの色（暗黙値は 'blue'）\n",
    "    marker:     マーカーの種類（暗黙値は pixcel ','）\n",
    "    legend:     凡例の文字列（暗黙値は「なし」）\n",
    "    linestyle:  線の種類（暗黙値は実線）\n",
    "    '''\n",
    "    \n",
    "    if (marker != ','): #マーカーが pixcel でない場合\n",
    "        linestyle = ''  #データのプロットのみを行い，線で結ばない．\n",
    "\n",
    "    plt.plot(time, amplitude, color = color, marker = marker,\\\n",
    "             linestyle = linestyle, label = legend) #この１行で描画される\n",
    "    \n",
    "    if (legend != ''):  #凡例のデータが渡された場合には，凡例を書く関数を呼ぶ\n",
    "        plt.legend()\n",
    "\n",
    "    if (hold == False):\n",
    "        plt.xlabel(xtitle)\n",
    "        plt.ylabel(ytitle)\n",
    "        plt.show()"
   ]
  },
  {
   "cell_type": "code",
   "execution_count": 4,
   "id": "3ab92081-2532-4c3a-bdf6-37f50fee6123",
   "metadata": {
    "deletable": false,
    "execution": {
     "iopub.execute_input": "2023-03-10T04:06:11.889041Z",
     "iopub.status.busy": "2023-03-10T04:06:11.888960Z",
     "iopub.status.idle": "2023-03-10T04:06:11.891099Z",
     "shell.execute_reply": "2023-03-10T04:06:11.890818Z"
    },
    "nbgrader": {
     "cell_type": "code",
     "checksum": "07dc240d56aff857cd007134e99ac780",
     "grade": false,
     "grade_id": "cell-4895c971b4fa5fbc",
     "locked": false,
     "schema_version": 3,
     "solution": true,
     "task": false
    },
    "tags": []
   },
   "outputs": [],
   "source": [
    "# このセルに関数の定義を入力する．\n",
    "def question1(t):\n",
    "    # YOUR CODE HERE\n",
    "    y = np.sin(t)\n",
    "    return y"
   ]
  },
  {
   "cell_type": "code",
   "execution_count": 5,
   "id": "27d5234d-1c2c-4fad-9e3b-b49907d70d82",
   "metadata": {
    "deletable": false,
    "editable": false,
    "execution": {
     "iopub.execute_input": "2023-03-10T04:06:11.892878Z",
     "iopub.status.busy": "2023-03-10T04:06:11.892796Z",
     "iopub.status.idle": "2023-03-10T04:06:12.296085Z",
     "shell.execute_reply": "2023-03-10T04:06:12.295752Z"
    },
    "nbgrader": {
     "cell_type": "code",
     "checksum": "ee6eba133c178562ce67c0e218ebfe72",
     "grade": true,
     "grade_id": "cell-8d1c9bd89f7cb5df",
     "locked": true,
     "points": 0,
     "schema_version": 3,
     "solution": false,
     "task": false
    },
    "tags": []
   },
   "outputs": [
    {
     "data": {
      "image/png": "[encoded data removed]",
      "text/plain": [
       "<Figure size 640x480 with 1 Axes>"
      ]
     },
     "metadata": {},
     "output_type": "display_data"
    },
    {
     "ename": "AssertionError",
     "evalue": "",
     "output_type": "error",
     "traceback": [
      "\u001b[0;31m---------------------------------------------------------------------------\u001b[0m",
      "\u001b[0;31mAssertionError\u001b[0m                            Traceback (most recent call last)",
      "Cell \u001b[0;32mIn[5], line 6\u001b[0m\n\u001b[1;32m      4\u001b[0m plot(t, y)\n\u001b[1;32m      5\u001b[0m \u001b[38;5;66;03m### BEGIN HIDDEN TESTS\u001b[39;00m\n\u001b[0;32m----> 6\u001b[0m \u001b[38;5;28;01massert\u001b[39;00m np\u001b[38;5;241m.\u001b[39mallclose(y, (\u001b[38;5;241m1\u001b[39m \u001b[38;5;241m-\u001b[39m np\u001b[38;5;241m.\u001b[39mexp(\u001b[38;5;241m-\u001b[39mt)))\n",
      "\u001b[0;31mAssertionError\u001b[0m: "
     ]
    }
   ],
   "source": [
    "# 結果の確認（評価用セル）\n",
    "t = np.arange(0, 5, 0.01)\n",
    "y = question1(t)\n",
    "plot(t, y)\n",
    "### BEGIN HIDDEN TESTS\n",
    "assert np.allclose(y, (1 - np.exp(-t)))\n",
    "### END HIDDEN TESTS"
   ]
  },
  {
   "cell_type": "code",
   "execution_count": null,
   "id": "8689e0cf-dec8-406f-9b8e-09c868f44620",
   "metadata": {},
   "outputs": [],
   "source": []
  }
 ],
 "metadata": {
  "kernelspec": {
   "display_name": "Python 3 (ipykernel)",
   "language": "python",
   "name": "python3"
  },
  "language_info": {
   "codemirror_mode": {
    "name": "ipython",
    "version": 3
   },
   "file_extension": ".py",
   "mimetype": "text/x-python",
   "name": "python",
   "nbconvert_exporter": "python",
   "pygments_lexer": "ipython3",
   "version": "3.8.8"
  }
 },
 "nbformat": 4,
 "nbformat_minor": 5
}
